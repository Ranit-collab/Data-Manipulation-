{
 "cells": [
  {
   "cell_type": "markdown",
   "id": "different-endorsement",
   "metadata": {
    "papermill": {
     "duration": 0.014513,
     "end_time": "2021-03-31T15:33:49.340383",
     "exception": false,
     "start_time": "2021-03-31T15:33:49.325870",
     "status": "completed"
    },
    "tags": []
   },
   "source": [
    "**This notebook is an exercise in the [Pandas](https://www.kaggle.com/learn/pandas) course.  You can reference the tutorial at [this link](https://www.kaggle.com/residentmario/data-types-and-missing-values).**\n",
    "\n",
    "---\n"
   ]
  },
  {
   "cell_type": "markdown",
   "id": "impressive-valuation",
   "metadata": {
    "papermill": {
     "duration": 0.01101,
     "end_time": "2021-03-31T15:33:49.362880",
     "exception": false,
     "start_time": "2021-03-31T15:33:49.351870",
     "status": "completed"
    },
    "tags": []
   },
   "source": [
    "# Introduction\n",
    "\n",
    "Run the following cell to load your data and some utility functions."
   ]
  },
  {
   "cell_type": "code",
   "execution_count": 1,
   "id": "becoming-salem",
   "metadata": {
    "execution": {
     "iopub.execute_input": "2021-03-31T15:33:49.393364Z",
     "iopub.status.busy": "2021-03-31T15:33:49.392708Z",
     "iopub.status.idle": "2021-03-31T15:33:52.539129Z",
     "shell.execute_reply": "2021-03-31T15:33:52.538392Z"
    },
    "papermill": {
     "duration": 3.165132,
     "end_time": "2021-03-31T15:33:52.539376",
     "exception": false,
     "start_time": "2021-03-31T15:33:49.374244",
     "status": "completed"
    },
    "tags": []
   },
   "outputs": [
    {
     "name": "stdout",
     "output_type": "stream",
     "text": [
      "Setup complete.\n"
     ]
    }
   ],
   "source": [
    "import pandas as pd\n",
    "\n",
    "reviews = pd.read_csv(\"../input/wine-reviews/winemag-data-130k-v2.csv\", index_col=0)\n",
    "\n",
    "from learntools.core import binder; binder.bind(globals())\n",
    "from learntools.pandas.data_types_and_missing_data import *\n",
    "print(\"Setup complete.\")"
   ]
  },
  {
   "cell_type": "markdown",
   "id": "combined-election",
   "metadata": {
    "papermill": {
     "duration": 0.011354,
     "end_time": "2021-03-31T15:33:52.563295",
     "exception": false,
     "start_time": "2021-03-31T15:33:52.551941",
     "status": "completed"
    },
    "tags": []
   },
   "source": [
    "# Exercises"
   ]
  },
  {
   "cell_type": "markdown",
   "id": "structural-penguin",
   "metadata": {
    "papermill": {
     "duration": 0.011253,
     "end_time": "2021-03-31T15:33:52.586069",
     "exception": false,
     "start_time": "2021-03-31T15:33:52.574816",
     "status": "completed"
    },
    "tags": []
   },
   "source": [
    "## 1. \n",
    "What is the data type of the `points` column in the dataset?"
   ]
  },
  {
   "cell_type": "code",
   "execution_count": 2,
   "id": "solved-rochester",
   "metadata": {
    "execution": {
     "iopub.execute_input": "2021-03-31T15:33:52.617897Z",
     "iopub.status.busy": "2021-03-31T15:33:52.617248Z",
     "iopub.status.idle": "2021-03-31T15:33:52.623108Z",
     "shell.execute_reply": "2021-03-31T15:33:52.622587Z"
    },
    "papermill": {
     "duration": 0.025698,
     "end_time": "2021-03-31T15:33:52.623267",
     "exception": false,
     "start_time": "2021-03-31T15:33:52.597569",
     "status": "completed"
    },
    "tags": []
   },
   "outputs": [
    {
     "data": {
      "application/javascript": [
       "parent.postMessage({\"jupyterEvent\": \"custom.exercise_interaction\", \"data\": {\"outcomeType\": 1, \"valueTowardsCompletion\": 0.25, \"interactionType\": 1, \"questionType\": 1, \"questionId\": \"1_PointsDtype\", \"learnToolsVersion\": \"0.3.4\", \"failureMessage\": \"\", \"exceptionClass\": \"\", \"trace\": \"\"}}, \"*\")"
      ],
      "text/plain": [
       "<IPython.core.display.Javascript object>"
      ]
     },
     "metadata": {},
     "output_type": "display_data"
    },
    {
     "data": {
      "text/markdown": [
       "<span style=\"color:#33cc33\">Correct</span>"
      ],
      "text/plain": [
       "Correct"
      ]
     },
     "metadata": {},
     "output_type": "display_data"
    }
   ],
   "source": [
    "# Your code here\n",
    "dtype = reviews.points.dtype\n",
    "\n",
    "# Check your answer\n",
    "q1.check()"
   ]
  },
  {
   "cell_type": "code",
   "execution_count": 3,
   "id": "dominant-statement",
   "metadata": {
    "execution": {
     "iopub.execute_input": "2021-03-31T15:33:52.652072Z",
     "iopub.status.busy": "2021-03-31T15:33:52.651441Z",
     "iopub.status.idle": "2021-03-31T15:33:52.654595Z",
     "shell.execute_reply": "2021-03-31T15:33:52.655089Z"
    },
    "papermill": {
     "duration": 0.01912,
     "end_time": "2021-03-31T15:33:52.655270",
     "exception": false,
     "start_time": "2021-03-31T15:33:52.636150",
     "status": "completed"
    },
    "tags": []
   },
   "outputs": [],
   "source": [
    "#q1.hint()\n",
    "#q1.solution()"
   ]
  },
  {
   "cell_type": "markdown",
   "id": "restricted-stroke",
   "metadata": {
    "papermill": {
     "duration": 0.012508,
     "end_time": "2021-03-31T15:33:52.680616",
     "exception": false,
     "start_time": "2021-03-31T15:33:52.668108",
     "status": "completed"
    },
    "tags": []
   },
   "source": [
    "## 2. \n",
    "Create a Series from entries in the `points` column, but convert the entries to strings. Hint: strings are `str` in native Python."
   ]
  },
  {
   "cell_type": "code",
   "execution_count": 4,
   "id": "contrary-clock",
   "metadata": {
    "execution": {
     "iopub.execute_input": "2021-03-31T15:33:52.711235Z",
     "iopub.status.busy": "2021-03-31T15:33:52.710565Z",
     "iopub.status.idle": "2021-03-31T15:33:52.881612Z",
     "shell.execute_reply": "2021-03-31T15:33:52.882229Z"
    },
    "papermill": {
     "duration": 0.188959,
     "end_time": "2021-03-31T15:33:52.882419",
     "exception": false,
     "start_time": "2021-03-31T15:33:52.693460",
     "status": "completed"
    },
    "tags": []
   },
   "outputs": [
    {
     "data": {
      "application/javascript": [
       "parent.postMessage({\"jupyterEvent\": \"custom.exercise_interaction\", \"data\": {\"outcomeType\": 1, \"valueTowardsCompletion\": 0.25, \"interactionType\": 1, \"questionType\": 1, \"questionId\": \"2_StrPoints\", \"learnToolsVersion\": \"0.3.4\", \"failureMessage\": \"\", \"exceptionClass\": \"\", \"trace\": \"\"}}, \"*\")"
      ],
      "text/plain": [
       "<IPython.core.display.Javascript object>"
      ]
     },
     "metadata": {},
     "output_type": "display_data"
    },
    {
     "data": {
      "text/markdown": [
       "<span style=\"color:#33cc33\">Correct</span>"
      ],
      "text/plain": [
       "Correct"
      ]
     },
     "metadata": {},
     "output_type": "display_data"
    }
   ],
   "source": [
    "point_strings = reviews.points.astype(str)\n",
    "\n",
    "# Check your answer\n",
    "q2.check()"
   ]
  },
  {
   "cell_type": "code",
   "execution_count": 5,
   "id": "weekly-notion",
   "metadata": {
    "execution": {
     "iopub.execute_input": "2021-03-31T15:33:52.915565Z",
     "iopub.status.busy": "2021-03-31T15:33:52.914869Z",
     "iopub.status.idle": "2021-03-31T15:33:52.919289Z",
     "shell.execute_reply": "2021-03-31T15:33:52.918627Z"
    },
    "papermill": {
     "duration": 0.022036,
     "end_time": "2021-03-31T15:33:52.919454",
     "exception": false,
     "start_time": "2021-03-31T15:33:52.897418",
     "status": "completed"
    },
    "tags": []
   },
   "outputs": [],
   "source": [
    "#q2.hint()\n",
    "#q2.solution()"
   ]
  },
  {
   "cell_type": "markdown",
   "id": "rubber-miami",
   "metadata": {
    "papermill": {
     "duration": 0.013825,
     "end_time": "2021-03-31T15:33:52.947740",
     "exception": false,
     "start_time": "2021-03-31T15:33:52.933915",
     "status": "completed"
    },
    "tags": []
   },
   "source": [
    "## 3.\n",
    "Sometimes the price column is null. How many reviews in the dataset are missing a price?"
   ]
  },
  {
   "cell_type": "code",
   "execution_count": 6,
   "id": "median-mason",
   "metadata": {
    "execution": {
     "iopub.execute_input": "2021-03-31T15:33:52.981665Z",
     "iopub.status.busy": "2021-03-31T15:33:52.981017Z",
     "iopub.status.idle": "2021-03-31T15:33:52.987230Z",
     "shell.execute_reply": "2021-03-31T15:33:52.987841Z"
    },
    "papermill": {
     "duration": 0.026136,
     "end_time": "2021-03-31T15:33:52.988036",
     "exception": false,
     "start_time": "2021-03-31T15:33:52.961900",
     "status": "completed"
    },
    "tags": []
   },
   "outputs": [
    {
     "data": {
      "application/javascript": [
       "parent.postMessage({\"jupyterEvent\": \"custom.exercise_interaction\", \"data\": {\"outcomeType\": 1, \"valueTowardsCompletion\": 0.25, \"interactionType\": 1, \"questionType\": 1, \"questionId\": \"3_CountMissingPrices\", \"learnToolsVersion\": \"0.3.4\", \"failureMessage\": \"\", \"exceptionClass\": \"\", \"trace\": \"\"}}, \"*\")"
      ],
      "text/plain": [
       "<IPython.core.display.Javascript object>"
      ]
     },
     "metadata": {},
     "output_type": "display_data"
    },
    {
     "data": {
      "text/markdown": [
       "<span style=\"color:#33cc33\">Correct</span>"
      ],
      "text/plain": [
       "Correct"
      ]
     },
     "metadata": {},
     "output_type": "display_data"
    }
   ],
   "source": [
    "n_missing_prices = reviews.price.isnull().sum()\n",
    "\n",
    "# Check your answer\n",
    "q3.check()"
   ]
  },
  {
   "cell_type": "code",
   "execution_count": 7,
   "id": "documentary-brisbane",
   "metadata": {
    "execution": {
     "iopub.execute_input": "2021-03-31T15:33:53.022588Z",
     "iopub.status.busy": "2021-03-31T15:33:53.021886Z",
     "iopub.status.idle": "2021-03-31T15:33:53.025197Z",
     "shell.execute_reply": "2021-03-31T15:33:53.025728Z"
    },
    "papermill": {
     "duration": 0.022247,
     "end_time": "2021-03-31T15:33:53.025896",
     "exception": false,
     "start_time": "2021-03-31T15:33:53.003649",
     "status": "completed"
    },
    "tags": []
   },
   "outputs": [],
   "source": [
    "#q3.hint()\n",
    "#q3.solution()"
   ]
  },
  {
   "cell_type": "markdown",
   "id": "weird-musician",
   "metadata": {
    "papermill": {
     "duration": 0.015174,
     "end_time": "2021-03-31T15:33:53.056556",
     "exception": false,
     "start_time": "2021-03-31T15:33:53.041382",
     "status": "completed"
    },
    "tags": []
   },
   "source": [
    "## 4.\n",
    "What are the most common wine-producing regions? Create a Series counting the number of times each value occurs in the `region_1` field. This field is often missing data, so replace missing values with `Unknown`. Sort in descending order.  Your output should look something like this:\n",
    "\n",
    "```\n",
    "Unknown                    21247\n",
    "Napa Valley                 4480\n",
    "                           ...  \n",
    "Bardolino Superiore            1\n",
    "Primitivo del Tarantino        1\n",
    "Name: region_1, Length: 1230, dtype: int64\n",
    "```"
   ]
  },
  {
   "cell_type": "code",
   "execution_count": 8,
   "id": "drawn-baptist",
   "metadata": {
    "execution": {
     "iopub.execute_input": "2021-03-31T15:33:53.091681Z",
     "iopub.status.busy": "2021-03-31T15:33:53.091061Z",
     "iopub.status.idle": "2021-03-31T15:33:53.192923Z",
     "shell.execute_reply": "2021-03-31T15:33:53.193411Z"
    },
    "papermill": {
     "duration": 0.121143,
     "end_time": "2021-03-31T15:33:53.193593",
     "exception": false,
     "start_time": "2021-03-31T15:33:53.072450",
     "status": "completed"
    },
    "tags": []
   },
   "outputs": [
    {
     "data": {
      "application/javascript": [
       "parent.postMessage({\"jupyterEvent\": \"custom.exercise_interaction\", \"data\": {\"outcomeType\": 1, \"valueTowardsCompletion\": 0.25, \"interactionType\": 1, \"questionType\": 2, \"questionId\": \"4_ReviewsPerRegion\", \"learnToolsVersion\": \"0.3.4\", \"failureMessage\": \"\", \"exceptionClass\": \"\", \"trace\": \"\"}}, \"*\")"
      ],
      "text/plain": [
       "<IPython.core.display.Javascript object>"
      ]
     },
     "metadata": {},
     "output_type": "display_data"
    },
    {
     "data": {
      "text/markdown": [
       "<span style=\"color:#33cc33\">Correct</span>"
      ],
      "text/plain": [
       "Correct"
      ]
     },
     "metadata": {},
     "output_type": "display_data"
    }
   ],
   "source": [
    "a=reviews.region_1.fillna(\"Unknown\")\n",
    "reviews_per_region = a.value_counts().sort_values(ascending=False)\n",
    "\n",
    "\n",
    "\n",
    "# Check your answer\n",
    "q4.check()"
   ]
  },
  {
   "cell_type": "code",
   "execution_count": 9,
   "id": "superb-destruction",
   "metadata": {
    "execution": {
     "iopub.execute_input": "2021-03-31T15:33:53.232629Z",
     "iopub.status.busy": "2021-03-31T15:33:53.231692Z",
     "iopub.status.idle": "2021-03-31T15:33:53.235899Z",
     "shell.execute_reply": "2021-03-31T15:33:53.235233Z"
    },
    "papermill": {
     "duration": 0.025799,
     "end_time": "2021-03-31T15:33:53.236075",
     "exception": false,
     "start_time": "2021-03-31T15:33:53.210276",
     "status": "completed"
    },
    "tags": []
   },
   "outputs": [],
   "source": [
    "#q4.hint()\n",
    "#q4.solution()"
   ]
  },
  {
   "cell_type": "markdown",
   "id": "settled-concord",
   "metadata": {
    "papermill": {
     "duration": 0.01649,
     "end_time": "2021-03-31T15:33:53.269410",
     "exception": false,
     "start_time": "2021-03-31T15:33:53.252920",
     "status": "completed"
    },
    "tags": []
   },
   "source": [
    "# Keep going\n",
    "\n",
    "Move on to **[renaming and combining](https://www.kaggle.com/residentmario/renaming-and-combining)**."
   ]
  },
  {
   "cell_type": "markdown",
   "id": "interracial-culture",
   "metadata": {
    "papermill": {
     "duration": 0.016458,
     "end_time": "2021-03-31T15:33:53.302632",
     "exception": false,
     "start_time": "2021-03-31T15:33:53.286174",
     "status": "completed"
    },
    "tags": []
   },
   "source": [
    "---\n",
    "\n",
    "\n",
    "\n",
    "\n",
    "*Have questions or comments? Visit the [Learn Discussion forum](https://www.kaggle.com/learn-forum/161299) to chat with other Learners.*"
   ]
  }
 ],
 "metadata": {
  "kernelspec": {
   "display_name": "Python 3",
   "language": "python",
   "name": "python3"
  },
  "language_info": {
   "codemirror_mode": {
    "name": "ipython",
    "version": 3
   },
   "file_extension": ".py",
   "mimetype": "text/x-python",
   "name": "python",
   "nbconvert_exporter": "python",
   "pygments_lexer": "ipython3",
   "version": "3.7.9"
  },
  "papermill": {
   "default_parameters": {},
   "duration": 10.948943,
   "end_time": "2021-03-31T15:33:53.928882",
   "environment_variables": {},
   "exception": null,
   "input_path": "__notebook__.ipynb",
   "output_path": "__notebook__.ipynb",
   "parameters": {},
   "start_time": "2021-03-31T15:33:42.979939",
   "version": "2.3.2"
  }
 },
 "nbformat": 4,
 "nbformat_minor": 5
}
